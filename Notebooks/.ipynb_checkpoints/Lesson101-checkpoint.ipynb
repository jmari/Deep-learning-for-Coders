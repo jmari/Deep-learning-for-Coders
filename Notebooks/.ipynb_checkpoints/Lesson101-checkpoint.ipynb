{
 "cells": [
  {
   "cell_type": "markdown",
   "id": "latter-holder",
   "metadata": {},
   "source": [
    "## Appendix: Jupyter notebook 101"
   ]
  },
  {
   "cell_type": "code",
   "execution_count": 5,
   "id": "comfortable-olympus",
   "metadata": {},
   "outputs": [
    {
     "data": {
      "text/plain": [
       "2"
      ]
     },
     "execution_count": 5,
     "metadata": {},
     "output_type": "execute_result"
    }
   ],
   "source": [
    "1+1"
   ]
  },
  {
   "cell_type": "code",
   "execution_count": 6,
   "id": "exclusive-spiritual",
   "metadata": {},
   "outputs": [],
   "source": [
    "x = 3*4"
   ]
  },
  {
   "cell_type": "code",
   "execution_count": 7,
   "id": "reverse-characteristic",
   "metadata": {},
   "outputs": [
    {
     "data": {
      "text/plain": [
       "13"
      ]
     },
     "execution_count": 7,
     "metadata": {},
     "output_type": "execute_result"
    }
   ],
   "source": [
    "x+1"
   ]
  },
  {
   "cell_type": "markdown",
   "id": "sophisticated-growth",
   "metadata": {},
   "source": [
    "## Introduction"
   ]
  },
  {
   "cell_type": "code",
   "execution_count": 8,
   "id": "mobile-walter",
   "metadata": {},
   "outputs": [
    {
     "data": {
      "text/plain": [
       "2"
      ]
     },
     "execution_count": 8,
     "metadata": {},
     "output_type": "execute_result"
    }
   ],
   "source": [
    "1+1"
   ]
  },
  {
   "cell_type": "markdown",
   "id": "available-browser",
   "metadata": {},
   "source": [
    "## Writing\n",
    "- list 1\n",
    "- list 2\n",
    "\n",
    "1. thing"
   ]
  },
  {
   "cell_type": "code",
   "execution_count": null,
   "id": "turned-badge",
   "metadata": {},
   "outputs": [],
   "source": []
  }
 ],
 "metadata": {
  "kernelspec": {
   "display_name": "Python 3",
   "language": "python",
   "name": "python3"
  },
  "language_info": {
   "codemirror_mode": {
    "name": "ipython",
    "version": 3
   },
   "file_extension": ".py",
   "mimetype": "text/x-python",
   "name": "python",
   "nbconvert_exporter": "python",
   "pygments_lexer": "ipython3",
   "version": "3.7.10"
  }
 },
 "nbformat": 4,
 "nbformat_minor": 5
}
